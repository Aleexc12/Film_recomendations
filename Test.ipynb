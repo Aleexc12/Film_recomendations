{
 "cells": [
  {
   "cell_type": "code",
   "execution_count": 1,
   "metadata": {},
   "outputs": [],
   "source": [
    "import pvporcupine\n",
    "import sounddevice as sd\n",
    "\n",
    "# Configuración de Porcupine con access_key\n",
    "porcupine = pvporcupine.create(\n",
    "    access_key=\"qEcRoI9pyPji4cEIXkMNz4+G34KlNQMO5mouLLJzGsvb5PF5fuaKlg==\",  # Reemplaza con tu clave de acceso\n",
    "    keyword_paths=[\"resources/wakeword.ppn\"],\n",
    "    model_path=\"resources/porcupine_params_es.pv\" \n",
    ")\n",
    "\n",
    "def wake_word_detected():\n",
    "    print(\"Wake word detectado. Escuchando tu comando...\")\n",
    "import numpy as np\n",
    "\n",
    "def audio_callback(indata, frames, time, status):\n",
    "    if len(indata) != porcupine.frame_length:\n",
    "        print(f\"Ajustando frame length. Original: {len(indata)}, esperado: {porcupine.frame_length}\")\n",
    "        # Interpolamos para ajustar el tamaño del frame\n",
    "        factor = porcupine.frame_length / len(indata)\n",
    "        indata = np.interp(\n",
    "            np.arange(0, len(indata) * factor) / factor,  # Nuevas posiciones\n",
    "            np.arange(len(indata)),  # Posiciones originales\n",
    "            indata[:, 0]  # Solo el primer canal\n",
    "        ).astype(\"int16\")\n",
    "\n",
    "    pcm = indata  # Ya está ajustado\n",
    "    keyword_index = porcupine.process(pcm)\n",
    "    if keyword_index >= 0:\n",
    "        wake_word_detected()\n",
    "\n"
   ]
  },
  {
   "cell_type": "code",
   "execution_count": 2,
   "metadata": {},
   "outputs": [
    {
     "name": "stderr",
     "output_type": "stream",
     "text": [
      "c:\\Users\\alexc\\AppData\\Local\\Programs\\Python\\Python311\\Lib\\site-packages\\whisper\\__init__.py:150: FutureWarning: You are using `torch.load` with `weights_only=False` (the current default value), which uses the default pickle module implicitly. It is possible to construct malicious pickle data which will execute arbitrary code during unpickling (See https://github.com/pytorch/pytorch/blob/main/SECURITY.md#untrusted-models for more details). In a future release, the default value for `weights_only` will be flipped to `True`. This limits the functions that could be executed during unpickling. Arbitrary objects will no longer be allowed to be loaded via this mode unless they are explicitly allowlisted by the user via `torch.serialization.add_safe_globals`. We recommend you start setting `weights_only=True` for any use case where you don't have full control of the loaded file. Please open an issue on GitHub for any issues related to this experimental feature.\n",
      "  checkpoint = torch.load(fp, map_location=device)\n"
     ]
    }
   ],
   "source": [
    "import whisper\n",
    "import sounddevice as sd\n",
    "import numpy as np\n",
    "\n",
    "# Cargar el modelo de Whisper\n",
    "model = whisper.load_model(\"base\")\n",
    "\n",
    "def transcribe_audio():\n",
    "    print(\"Escuchando comando...\")\n",
    "    duration = 5  # Duración en segundos\n",
    "    audio = sd.rec(int(duration * 16000), samplerate=16000, channels=1, dtype='float32')\n",
    "    sd.wait()  # Esperar a que termine la grabación\n",
    "    \n",
    "    # Guardar el audio en un archivo temporal\n",
    "    np.save(\"audio_temp.npy\", audio)\n",
    "    print(\"Transcribiendo...\")\n",
    "    \n",
    "    # Usar Whisper para convertir audio a texto\n",
    "    result = model.transcribe(\"audio_temp.npy\", language=\"es\")\n",
    "    return result['text']\n"
   ]
  },
  {
   "cell_type": "code",
   "execution_count": 3,
   "metadata": {},
   "outputs": [],
   "source": [
    "def process_command(command):\n",
    "    print(f\"Comando recibido: {command}\")\n",
    "    genre = None\n",
    "    runtime = None\n",
    "\n",
    "    # Ejemplo de procesamiento básico\n",
    "    if \"amor\" in command:\n",
    "        genre = \"romance\"\n",
    "    if \"menos de 1:30\" in command or \"corta\" in command:\n",
    "        runtime = 90\n",
    "\n",
    "    return {\n",
    "        \"genre\": genre,\n",
    "        \"runtime\": runtime\n",
    "    }\n"
   ]
  },
  {
   "cell_type": "code",
   "execution_count": 4,
   "metadata": {},
   "outputs": [
    {
     "name": "stdout",
     "output_type": "stream",
     "text": [
      "{'page': 1, 'results': [{'adult': False, 'backdrop_path': '/8mjYwWT50GkRrrRdyHzJorfEfcl.jpg', 'genre_ids': [28, 12, 18], 'id': 558449, 'original_language': 'en', 'original_title': 'Gladiator II', 'overview': 'Years after witnessing the death of the revered hero Maximus at the hands of his uncle, Lucius is forced to enter the Colosseum after his home is conquered by the tyrannical Emperors who now lead Rome with an iron fist. With rage in his heart and the future of the Empire at stake, Lucius must look to his past to find strength and honor to return the glory of Rome to its people.', 'popularity': 2557.256, 'poster_path': '/2cxhvwyEwRlysAmRH4iodkvo0z5.jpg', 'release_date': '2024-11-13', 'title': 'Gladiator II', 'video': False, 'vote_average': 6.8, 'vote_count': 329}, {'adult': False, 'backdrop_path': '/18TSJF1WLA4CkymvVUcKDBwUJ9F.jpg', 'genre_ids': [27, 53, 9648], 'id': 1034541, 'original_language': 'en', 'original_title': 'Terrifier 3', 'overview': \"Five years after surviving Art the Clown's Halloween massacre, Sienna and Jonathan are still struggling to rebuild their shattered lives. As the holiday season approaches, they try to embrace the Christmas spirit and leave the horrors of the past behind. But just when they think they're safe, Art returns, determined to turn their holiday cheer into a new nightmare. The festive season quickly unravels as Art unleashes his twisted brand of terror, proving that no holiday is safe.\", 'popularity': 3158.896, 'poster_path': '/l1175hgL5DoXnqeZQCcU3eZIdhX.jpg', 'release_date': '2024-10-09', 'title': 'Terrifier 3', 'video': False, 'vote_average': 6.9, 'vote_count': 989}, {'adult': False, 'backdrop_path': '/90ez6ArvpO8bvpyIngBuwXOqJm5.jpg', 'genre_ids': [35, 18, 10749], 'id': 19404, 'original_language': 'hi', 'original_title': 'दिलवाले दुल्हनिया ले जायेंगे', 'overview': 'Raj is a rich, carefree, happy-go-lucky second generation NRI. Simran is the daughter of Chaudhary Baldev Singh, who in spite of being an NRI is very strict about adherence to Indian values. Simran has left for India to be married to her childhood fiancé. Raj leaves for India with a mission at his hands, to claim his lady love under the noses of her whole family. Thus begins a saga.', 'popularity': 35.89, 'poster_path': '/lfRkUr7DYdHldAqi3PwdQGBRBPM.jpg', 'release_date': '1995-10-20', 'title': 'Dilwale Dulhania Le Jayenge', 'video': False, 'vote_average': 8.5, 'vote_count': 4437}, {'adult': False, 'backdrop_path': '/Adrip2Jqzw56KeuV2nAxucKMNXA.jpg', 'genre_ids': [37], 'id': 429, 'original_language': 'it', 'original_title': 'Il buono, il brutto, il cattivo', 'overview': 'While the Civil War rages on between the Union and the Confederacy, three men – a quiet loner, a ruthless hitman, and a Mexican bandit – comb the American Southwest in search of a strongbox containing $200,000 in stolen gold.', 'popularity': 91.649, 'poster_path': '/bX2xnavhMYjWDoZp1VM6VnU1xwe.jpg', 'release_date': '1966-12-22', 'title': 'The Good, the Bad and the Ugly', 'video': False, 'vote_average': 8.463, 'vote_count': 8596}, {'adult': False, 'backdrop_path': '/sJNNMCc6B7KZIY3LH3JMYJJNH5j.jpg', 'genre_ids': [28, 18], 'id': 346, 'original_language': 'ja', 'original_title': '七人の侍', 'overview': \"A samurai answers a village's request for protection after he falls on hard times. The town needs protection from bandits, so the samurai gathers six others to help him teach the people how to defend themselves, and the villagers provide the soldiers with food.\", 'popularity': 53.872, 'poster_path': '/iAq0sq42vKTLneVGqHn1D4GzgrM.jpg', 'release_date': '1954-04-26', 'title': 'Seven Samurai', 'video': False, 'vote_average': 8.463, 'vote_count': 3667}, {'adult': False, 'backdrop_path': '/7lyq8hK0MhPHpUXdnqbFvZYSfkk.jpg', 'genre_ids': [18, 10749], 'id': 11216, 'original_language': 'it', 'original_title': 'Nuovo Cinema Paradiso', 'overview': \"A filmmaker recalls his childhood, when he fell in love with the movies at his village's theater and formed a deep friendship with the theater's projectionist.\", 'popularity': 36.62, 'poster_path': '/gCI2AeMV4IHSewhJkzsur5MEp6R.jpg', 'release_date': '1988-11-17', 'title': 'Cinema Paradiso', 'video': False, 'vote_average': 8.4, 'vote_count': 4361}], 'total_pages': 1, 'total_results': 6}\n"
     ]
    }
   ],
   "source": [
    "import requests\n",
    "\n",
    "# URL del servidor Flask\n",
    "BASE_URL = \"http://127.0.0.1:5000\"\n",
    "\n",
    "# Obtener la lista de seguimiento (después de autenticarse)\n",
    "response = requests.get(f\"{BASE_URL}/get_watchlist\")\n",
    "print(response.json())\n"
   ]
  },
  {
   "cell_type": "code",
   "execution_count": 5,
   "metadata": {},
   "outputs": [],
   "source": [
    "def speak_recommendations(movies):\n",
    "    engine.say(\"Estas son las películas que encontré para ti:\")\n",
    "    for movie in movies[:3]:  # Limita a 3 resultados\n",
    "        title = movie[\"title\"]\n",
    "        overview = movie.get(\"overview\", \"Sin sinopsis disponible.\")\n",
    "        rating = movie.get(\"rating\", \"Sin calificación.\")\n",
    "        engine.say(f\"{title}: {overview}. Calificación promedio: {rating}.\")\n",
    "    engine.runAndWait()\n"
   ]
  },
  {
   "cell_type": "code",
   "execution_count": 6,
   "metadata": {},
   "outputs": [],
   "source": [
    "def detect_wake_word():\n",
    "    def audio_callback(indata, frames, time, status):\n",
    "        if status:\n",
    "            print(f\"Estado del stream: {status}\")\n",
    "        \n",
    "        # Verifica si el tamaño del frame es correcto\n",
    "        if len(indata) == porcupine.frame_length:\n",
    "            pcm = indata[:, 0]  # Procesa solo el canal mono\n",
    "            keyword_index = porcupine.process(pcm)\n",
    "            if keyword_index >= 0:\n",
    "                wake_word_detected()\n",
    "        else:\n",
    "            print(f\"Frame length inválido: esperado {porcupine.frame_length}, recibido {len(indata)}\")\n",
    "\n",
    "    # Configurar el flujo de audio con blocksize\n",
    "    with sd.InputStream(\n",
    "        callback=audio_callback,\n",
    "        channels=1,  # Mono\n",
    "        samplerate=porcupine.sample_rate,  # 16000 Hz\n",
    "        blocksize=porcupine.frame_length,  # Asegurar el tamaño del bloque\n",
    "        dtype=\"int16\",  # Formato esperado por Porcupine\n",
    "    ):\n",
    "        print(\"Escuchando activación...\")\n",
    "        while True:\n",
    "            pass\n",
    "\n"
   ]
  },
  {
   "cell_type": "code",
   "execution_count": 7,
   "metadata": {},
   "outputs": [
    {
     "name": "stdout",
     "output_type": "stream",
     "text": [
      "Iniciando el sistema de detección de wake word...\n",
      "Escuchando activación...\n",
      "Wake word detectado. Preparando para escuchar el comando...\n",
      "Grabando audio por 5 segundos...\n",
      "Grabación completada.\n",
      "Audio guardado en c:\\Users\\alexc\\OneDrive - Universidad Politécnica de Madrid\\Escritorio\\CDIA\\Proyectos\\Film_recomendations\\temp_audio.wav\n",
      "Sistema de detección finalizado.\n"
     ]
    }
   ],
   "source": [
    "import pvporcupine\n",
    "import sounddevice as sd\n",
    "import numpy as np\n",
    "import time\n",
    "from scipy.io.wavfile import write\n",
    "import os\n",
    "\n",
    "DEVICE_INDEX = 5  # Ajustar al índice correcto según tu micrófono\n",
    "running = True  # Bandera para controlar el bucle principal\n",
    "\n",
    "# Configuración de Porcupine\n",
    "try:\n",
    "    porcupine = pvporcupine.create(\n",
    "        access_key=\"qEcRoI9pyPji4cEIXkMNz4+G34KlNQMO5mouLLJzGsvb5PF5fuaKlg==\",\n",
    "        keyword_paths=[\"resources/wakeword.ppn\"],\n",
    "        model_path=\"resources/porcupine_params_es.pv\"\n",
    "    )\n",
    "except Exception as e:\n",
    "    print(f\"Error al inicializar Porcupine: {e}\")\n",
    "    exit(1)\n",
    "\n",
    "def wake_word_detected():\n",
    "    global running\n",
    "    print(\"Wake word detectado. Preparando para escuchar el comando...\")\n",
    "    grabar_comando()\n",
    "    running = False  # Detener el bucle principal\n",
    "\n",
    "def grabar_comando():\n",
    "    print(\"Grabando audio por 5 segundos...\")\n",
    "    try:\n",
    "        duration = 5\n",
    "        audio = sd.rec(int(duration * 16000), samplerate=16000, channels=1, dtype='int16', device=DEVICE_INDEX)\n",
    "        sd.wait()\n",
    "        print(\"Grabación completada.\")\n",
    "        \n",
    "        # Guardar el archivo en formato estándar para Whisper\n",
    "        temp_audio_path = \"temp_audio.wav\"\n",
    "        write(temp_audio_path, 16000, audio)\n",
    "        print(f\"Audio guardado en {os.path.abspath(temp_audio_path)}\")\n",
    "    except Exception as e:\n",
    "        print(f\"Error al grabar audio: {e}\")\n",
    "\n",
    "def audio_callback(indata, frames, time, status):\n",
    "    if status:\n",
    "        print(f\"Estado del stream: {status}\")\n",
    "    try:\n",
    "        pcm = indata[:, 0]\n",
    "        keyword_index = porcupine.process(pcm)\n",
    "        if keyword_index >= 0:\n",
    "            wake_word_detected()\n",
    "    except Exception as e:\n",
    "        print(f\"Error en el callback: {e}\")\n",
    "\n",
    "def detect_wake_word():\n",
    "    global running\n",
    "    print(\"Iniciando el sistema de detección de wake word...\")\n",
    "    try:\n",
    "        with sd.InputStream(\n",
    "            device=DEVICE_INDEX,\n",
    "            callback=audio_callback,\n",
    "            channels=1,\n",
    "            samplerate=porcupine.sample_rate,\n",
    "            blocksize=porcupine.frame_length,\n",
    "            dtype=\"int16\",\n",
    "            latency=\"low\"\n",
    "        ) as stream:\n",
    "            print(\"Escuchando activación...\")\n",
    "            while running:\n",
    "                time.sleep(0.1)\n",
    "    except KeyboardInterrupt:\n",
    "        print(\"\\nInterrupción detectada. Finalizando el programa...\")\n",
    "    except Exception as e:\n",
    "        print(f\"Error en el sistema de detección: {e}\")\n",
    "    finally:\n",
    "        porcupine.delete()\n",
    "        print(\"Sistema de detección finalizado.\")\n",
    "\n",
    "if __name__ == \"__main__\":\n",
    "    detect_wake_word()\n"
   ]
  },
  {
   "cell_type": "code",
   "execution_count": 8,
   "metadata": {},
   "outputs": [
    {
     "name": "stdout",
     "output_type": "stream",
     "text": [
      "Cargando modelo de Whisper...\n"
     ]
    },
    {
     "name": "stderr",
     "output_type": "stream",
     "text": [
      "c:\\Users\\alexc\\AppData\\Local\\Programs\\Python\\Python311\\Lib\\site-packages\\whisper\\__init__.py:150: FutureWarning: You are using `torch.load` with `weights_only=False` (the current default value), which uses the default pickle module implicitly. It is possible to construct malicious pickle data which will execute arbitrary code during unpickling (See https://github.com/pytorch/pytorch/blob/main/SECURITY.md#untrusted-models for more details). In a future release, the default value for `weights_only` will be flipped to `True`. This limits the functions that could be executed during unpickling. Arbitrary objects will no longer be allowed to be loaded via this mode unless they are explicitly allowlisted by the user via `torch.serialization.add_safe_globals`. We recommend you start setting `weights_only=True` for any use case where you don't have full control of the loaded file. Please open an issue on GitHub for any issues related to this experimental feature.\n",
      "  checkpoint = torch.load(fp, map_location=device)\n"
     ]
    },
    {
     "name": "stdout",
     "output_type": "stream",
     "text": [
      "Archivo encontrado: c:\\Users\\alexc\\OneDrive - Universidad Politécnica de Madrid\\Escritorio\\CDIA\\Proyectos\\Film_recomendations\\temp_audio.wav\n",
      "Procesando transcripción...\n"
     ]
    },
    {
     "name": "stderr",
     "output_type": "stream",
     "text": [
      "c:\\Users\\alexc\\AppData\\Local\\Programs\\Python\\Python311\\Lib\\site-packages\\whisper\\transcribe.py:132: UserWarning: FP16 is not supported on CPU; using FP32 instead\n",
      "  warnings.warn(\"FP16 is not supported on CPU; using FP32 instead\")\n"
     ]
    },
    {
     "name": "stdout",
     "output_type": "stream",
     "text": [
      "Transcripción:  Quiero ver una peli de antes del año 2004.\n"
     ]
    }
   ],
   "source": [
    "import whisper\n",
    "import os\n",
    "\n",
    "os.environ[\"PATH\"] += os.pathsep + r\"C:\\ffmpeg\\bin\"\n",
    "# Cargar el modelo de Whisper\n",
    "print(\"Cargando modelo de Whisper...\")\n",
    "model = whisper.load_model(\"base\")\n",
    "\n",
    "def transcribe_audio(filename):\n",
    "    \"\"\"Transcribir audio usando Whisper\"\"\"\n",
    "    if os.path.exists(filename):\n",
    "        print(f\"Archivo encontrado: {os.path.abspath(filename)}\")\n",
    "        print(\"Procesando transcripción...\")\n",
    "        try:\n",
    "            # Asegúrate de que el archivo está accesible y tiene el formato correcto\n",
    "            result = model.transcribe(filename, language=\"es\")\n",
    "            print(f\"Transcripción: {result['text']}\")\n",
    "        except Exception as e:\n",
    "            print(f\"Error al transcribir el audio: {e}\")\n",
    "    else:\n",
    "        print(f\"Error: El archivo {filename} no existe o no es accesible.\")\n",
    "\n",
    "# Ruta del archivo generado en la parte anterior\n",
    "wav_filename = \"temp_audio.wav\"\n",
    "transcribe_audio(wav_filename)\n"
   ]
  }
 ],
 "metadata": {
  "kernelspec": {
   "display_name": "Python 3",
   "language": "python",
   "name": "python3"
  },
  "language_info": {
   "codemirror_mode": {
    "name": "ipython",
    "version": 3
   },
   "file_extension": ".py",
   "mimetype": "text/x-python",
   "name": "python",
   "nbconvert_exporter": "python",
   "pygments_lexer": "ipython3",
   "version": "3.11.1"
  }
 },
 "nbformat": 4,
 "nbformat_minor": 2
}
